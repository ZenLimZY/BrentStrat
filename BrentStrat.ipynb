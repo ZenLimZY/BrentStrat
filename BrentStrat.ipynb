{
 "cells": [
  {
   "cell_type": "code",
   "execution_count": 4,
   "id": "1712c0e1",
   "metadata": {
    "collapsed": true
   },
   "outputs": [
    {
     "name": "stdout",
     "output_type": "stream",
     "text": [
      "[*********************100%%**********************]  2 of 2 completed\n"
     ]
    },
    {
     "ename": "NameError",
     "evalue": "name 'Dataset' is not defined",
     "output_type": "error",
     "traceback": [
      "\u001b[1;31m---------------------------------------------------------------------------\u001b[0m",
      "\u001b[1;31mNameError\u001b[0m                                 Traceback (most recent call last)",
      "\u001b[1;32m~\\AppData\\Local\\Temp\\ipykernel_15592\\1609454774.py\u001b[0m in \u001b[0;36m<module>\u001b[1;34m\u001b[0m\n\u001b[0;32m     15\u001b[0m \u001b[0mdataset\u001b[0m\u001b[1;33m.\u001b[0m\u001b[0mto_csv\u001b[0m\u001b[1;33m(\u001b[0m\u001b[1;34m\"ticker_data.csv\"\u001b[0m\u001b[1;33m)\u001b[0m\u001b[1;33m\u001b[0m\u001b[1;33m\u001b[0m\u001b[0m\n\u001b[0;32m     16\u001b[0m \u001b[1;33m\u001b[0m\u001b[0m\n\u001b[1;32m---> 17\u001b[1;33m \u001b[0mDataset\u001b[0m\u001b[1;33m\u001b[0m\u001b[1;33m\u001b[0m\u001b[0m\n\u001b[0m",
      "\u001b[1;31mNameError\u001b[0m: name 'Dataset' is not defined"
     ]
    }
   ],
   "source": [
    "# Parameters \n",
    "import yfinance as yf\n",
    "import pandas as pd\n",
    "import time\n",
    "\n",
    "\n",
    "def download_data_1Yr(tickers, period=\"1y\"):\n",
    "    data = yf.download(tickers, period=period)\n",
    "    time.sleep(5)\n",
    "    return data['Adj Close']  # Getting the adjusted close prices\n",
    "\n",
    "def download_data_5Yr(tickers, period=\"5y\"):\n",
    "    data = yf.download(tickers, period=period)\n",
    "    time.sleep(5)\n",
    "    return data['Adj Close']  # Getting the adjusted close prices\n",
    "\n",
    "#Set which tickers we want \n",
    "tickers = [\"BNO\", \"USO\"]\n",
    "dataset = download_data_1Yr(tickers)\n",
    "dataset.to_csv(\"ticker_data.csv\")\n",
    "\n"
   ]
  },
  {
   "cell_type": "code",
   "execution_count": 15,
   "id": "8240acbb",
   "metadata": {},
   "outputs": [
    {
     "name": "stdout",
     "output_type": "stream",
     "text": [
      "STD.DEV= 3.4390060453309492\n",
      "Correlation= 0.9803937853328247\n"
     ]
    }
   ],
   "source": [
    "# Check if the required columns exist in the dataframe\n",
    "if 'BNO' in dataset.columns and 'USO' in dataset.columns:\n",
    "    # Creating a new column 'Difference' which is the difference between 'BNO' and 'USO'\n",
    "    dataset['Difference'] = dataset['USO'] - dataset['BNO']\n",
    "else:\n",
    "    print(\"Columns BNO and/or USO do not exist in the dataframe.\")\n",
    "        \n",
    "# Find StdDev \n",
    "std_difference = dataset['Difference'].std()\n",
    "print(f\"STD.DEV= {std_difference}\")\n",
    "\n",
    "# Checking for NaN values before calculating the correlation\n",
    "if dataset['BNO'].notna().all() and dataset['USO'].notna().all():\n",
    "    # Calculating the correlation between 'BNO' and 'USO' columns\n",
    "    correlation_bno_uso = dataset['BNO'].corr(dataset['USO'])\n",
    "    print(f\"Correlation= {correlation_bno_uso}\")\n",
    "else:\n",
    "    print(\"There are NaN values in the 'BNO' and/or 'USO'. Correlation calculation skipped.\")"
   ]
  },
  {
   "cell_type": "code",
   "execution_count": 16,
   "id": "61445c63",
   "metadata": {},
   "outputs": [
    {
     "name": "stdout",
     "output_type": "stream",
     "text": [
      "Statistics for Quartile1:\n",
      "Standard Deviation of 'Difference': 1.536990399203668\n",
      "Correlation between 'BNO' and 'USO': 0.9731210245640676\n",
      "\n",
      "Statistics for Quartile2:\n",
      "Standard Deviation of 'Difference': 2.0825702673052633\n",
      "Correlation between 'BNO' and 'USO': 0.9810431525794399\n",
      "\n",
      "Statistics for Quartile3:\n",
      "Standard Deviation of 'Difference': 2.045412721395138\n",
      "Correlation between 'BNO' and 'USO': 0.9980432445868284\n",
      "\n",
      "Statistics for Quartile4:\n",
      "Standard Deviation of 'Difference': 1.9504350289130203\n",
      "Correlation between 'BNO' and 'USO': 0.9949543821106217\n",
      "\n"
     ]
    }
   ],
   "source": [
    "# Array Slice into 4 Qtrs \n",
    "# Function to calculate and print standard deviation and correlation\n",
    "def calculate_statistics(df, quartile_name):\n",
    "    std_diff = df['Difference'].std()\n",
    "    corr_bno_uso = df['BNO'].corr(df['USO']) if df['BNO'].notna().all() and df['USO'].notna().all() else None\n",
    "    \n",
    "    print(f\"Statistics for {quartile_name}:\")\n",
    "    print(f\"Standard Deviation of 'Difference': {std_diff}\")\n",
    "    print(f\"Correlation between 'BNO' and 'USO': {corr_bno_uso if corr_bno_uso is not None else 'Contains NaN values'}\")\n",
    "    print()\n",
    "\n",
    "# Splitting the dataframe into 4 equal parts\n",
    "length = len(dataset)\n",
    "quartile_length = length // 4\n",
    "\n",
    "Quartile1 = dataset.iloc[:quartile_length]\n",
    "Quartile2 = dataset.iloc[quartile_length:quartile_length*2]\n",
    "Quartile3 = dataset.iloc[quartile_length*2:quartile_length*3]\n",
    "Quartile4 = dataset.iloc[quartile_length*3:]\n",
    "\n",
    "# Calculating and printing the statistics for each quartile\n",
    "calculate_statistics(Quartile1, 'Quartile1')\n",
    "calculate_statistics(Quartile2, 'Quartile2')\n",
    "calculate_statistics(Quartile3, 'Quartile3')\n",
    "calculate_statistics(Quartile4, 'Quartile4')"
   ]
  },
  {
   "cell_type": "code",
   "execution_count": null,
   "id": "649bc875",
   "metadata": {},
   "outputs": [],
   "source": []
  }
 ],
 "metadata": {
  "kernelspec": {
   "display_name": "Python 3 (ipykernel)",
   "language": "python",
   "name": "python3"
  },
  "language_info": {
   "codemirror_mode": {
    "name": "ipython",
    "version": 3
   },
   "file_extension": ".py",
   "mimetype": "text/x-python",
   "name": "python",
   "nbconvert_exporter": "python",
   "pygments_lexer": "ipython3",
   "version": "3.9.13"
  }
 },
 "nbformat": 4,
 "nbformat_minor": 5
}
