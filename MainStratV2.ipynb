{
 "cells": [
  {
   "cell_type": "code",
   "execution_count": 1,
   "id": "e685dcce",
   "metadata": {},
   "outputs": [
    {
     "name": "stdout",
     "output_type": "stream",
     "text": [
      "Enter Ticker 1: SPY\n",
      "Enter Ticker 2: QQQ\n",
      "[*********************100%%**********************]  2 of 2 completed\n",
      "            Lower_Asset  Upper_Asset\n",
      "Date                                \n",
      "2022-11-03   258.736176   365.260040\n",
      "2022-11-04   262.897980   370.517242\n",
      "2022-11-07   265.788422   374.061432\n",
      "2022-11-08   267.725281   376.079681\n",
      "2022-11-09   261.547150   368.331635\n"
     ]
    }
   ],
   "source": [
    "# Parameters \n",
    "import yfinance as yf\n",
    "import pandas as pd\n",
    "import time\n",
    "import numpy as np\n",
    "import matplotlib.pyplot as plt\n",
    "\n",
    "ticker_1 = input(\"Enter Ticker 1: \")\n",
    "ticker_2 = input(\"Enter Ticker 2: \")\n",
    "PeriodBacktest = \"1y\"\n",
    "\n",
    "# Inverse Switch \n",
    "Inverse = 1  # Set this to 1 for inverse strategy\n",
    "#Default is Zero yo\n",
    "\n",
    "def download_data(tickers, period=PeriodBacktest):\n",
    "    data = yf.download(tickers, period=period)\n",
    "    #time.sleep(5)\n",
    "    return data['Adj Close']  # Getting the adjusted close prices\n",
    "\n",
    "\n",
    "#Set which tickers we want \n",
    "tickers = [ticker_1.upper(), ticker_2.upper()]\n",
    "dataset = download_data(tickers) #Downloads dataset\n",
    "\n",
    "#Section to rename Dataframe such that there is a Upper and lower asset\n",
    "# Get the last row of the dataset\n",
    "last_row = dataset.iloc[-1]\n",
    "\n",
    "# Determine which column has the higher value and which has the lower\n",
    "if last_row[tickers[0]] > last_row[tickers[1]]:\n",
    "    upper_asset = tickers[0]\n",
    "    lower_asset = tickers[1]\n",
    "else:\n",
    "    upper_asset = tickers[1]\n",
    "    lower_asset = tickers[0]\n",
    "\n",
    "# Create a dictionary for renaming columns\n",
    "rename_dict = {\n",
    "    upper_asset: \"Upper_Asset\",\n",
    "    lower_asset: \"Lower_Asset\"\n",
    "}\n",
    "\n",
    "# Rename the columns\n",
    "dataset.rename(columns=rename_dict, inplace=True)\n",
    "\n",
    "# Optionally, print the dataset to verify\n",
    "print(dataset.head())"
   ]
  },
  {
   "cell_type": "code",
   "execution_count": 2,
   "id": "e3c3549c",
   "metadata": {},
   "outputs": [
    {
     "name": "stdout",
     "output_type": "stream",
     "text": [
      "STD.DEV= 16.498364010683265\n",
      "Mean= 86.9299553765191\n",
      "Correlation= 0.9712382240630418\n"
     ]
    }
   ],
   "source": [
    "# Check if the required columns exist in the dataframe\n",
    "if 'Lower_Asset' in dataset.columns and 'Upper_Asset' in dataset.columns:\n",
    "    # Creating a new column 'Spread' which is the difference between 'Lower_Asset' and 'Upper_Asset'\n",
    "    dataset['Spread'] = dataset['Upper_Asset'] - dataset['Lower_Asset']\n",
    "else:\n",
    "    print(\"Columns Lower_Asset and/or Upper_Asset do not exist in the dataframe.\")\n",
    "        \n",
    "# Find StdDev \n",
    "std_Spread = dataset['Spread'].std()\n",
    "print(f\"STD.DEV= {std_Spread}\")\n",
    "\n",
    "# Find Mean\n",
    "spread_mean = dataset['Spread'].mean()\n",
    "print(f\"Mean= {spread_mean}\")\n",
    "\n",
    "# Checking for NaN values before calculating the correlation\n",
    "if dataset['Lower_Asset'].notna().all() and dataset['Upper_Asset'].notna().all():\n",
    "    # Calculating the correlation between 'Lower_Asset' and 'Upper_Asset' columns\n",
    "    correlation_lower_upper = dataset['Lower_Asset'].corr(dataset['Upper_Asset'])\n",
    "    print(f\"Correlation= {correlation_lower_upper}\")\n",
    "else:\n",
    "    print(\"There are NaN values in the 'Lower_Asset' and/or 'Upper_Asset'. Correlation calculation skipped.\")\n"
   ]
  },
  {
   "cell_type": "code",
   "execution_count": 3,
   "id": "23642275",
   "metadata": {},
   "outputs": [
    {
     "name": "stdout",
     "output_type": "stream",
     "text": [
      "            positions Lower_Asset.Status Upper_Asset.Status\n",
      "Date                                                       \n",
      "2022-11-03         -1               LONG              SHORT\n",
      "2022-11-04         -1               LONG              SHORT\n",
      "2022-11-07         -1               LONG              SHORT\n",
      "2022-11-08         -1               LONG              SHORT\n",
      "2022-11-09         -1               LONG              SHORT\n"
     ]
    }
   ],
   "source": [
    "#Set thresholds based on statistical significance, such as a z-score of 1.5 or -1.5 as trigger points.\n",
    "#Set Vars\n",
    "Z_ScoreTrigger = 1.0\n",
    "\n",
    "Z_ScoreExit = 0 #exits when asset at this Z-score\n",
    "\n",
    "dataset['Spread_ZScore'] = (dataset['Spread'] - spread_mean) / std_Spread\n",
    "\n",
    "\n",
    "# Create signals for trading (1 for long the spread, -1 for short the spread, 0 for no position)\n",
    "long_entries = (dataset['Spread_ZScore'] <= -Z_ScoreTrigger).astype(int)\n",
    "short_entries = (dataset['Spread_ZScore'] >= Z_ScoreTrigger).astype(int)\n",
    "exits = ((dataset['Spread_ZScore'] >= -Z_ScoreExit) & (dataset['Spread_ZScore'] <= Z_ScoreExit)).astype(int)\n",
    "\n",
    "# Combine the signals to define the positions based on the value of 'Inverse'\n",
    "if Inverse == 1:\n",
    "    positions = long_entries - short_entries\n",
    "else:\n",
    "    positions = short_entries - long_entries\n",
    "positions[exits == 1] = 0\n",
    "positions_df = positions.to_frame(name='positions')\n",
    "\n",
    "# Output the positions as a trading signal\n",
    "# In a live trading scenario, you'd connect this logic to your brokerage's API to execute trades.\n",
    "#print(positions)\n",
    "\n",
    "# When Positions = 1, Long the spread, Long Upper_Asset, Short Lower_Asset \n",
    "if isinstance(positions, pd.Series):\n",
    "    dataset['positions'] = positions  # Add positions as a column to the dataset DataFrame if it's a Series\n",
    "\n",
    "# Now, create the 'Lower_Asset' and 'Upper_Asset' columns based on the 'positions' column\n",
    "# Create 'Lower_Asset.Status' and 'Upper_Asset.Status' columns based on the conditions provided.\n",
    "# Apply the logic to create 'Lower_Asset.Status' and 'Upper_Asset.Status' columns in 'positions_df' DataFrame\n",
    "positions_df['Lower_Asset.Status'] = positions_df['positions'].apply(lambda x: 'SHORT' if x == 1 else ('LONG' if x == -1 else '-'))\n",
    "positions_df['Upper_Asset.Status'] = positions_df['positions'].apply(lambda x: 'LONG' if x == 1 else ('SHORT' if x == -1 else '-'))\n",
    "# Output positions_df for review\n",
    "print(positions_df.head())\n",
    "\n"
   ]
  },
  {
   "cell_type": "code",
   "execution_count": 4,
   "id": "47aa14e2",
   "metadata": {
    "scrolled": true
   },
   "outputs": [],
   "source": [
    "#Combine dfs, \n",
    "combined_df = pd.merge(dataset, positions_df, on='Date', how='inner')\n",
    "# Drop the 'Spread' and 'Spread_ZScore' columns\n",
    "combined_df = combined_df.drop(['Spread', 'Spread_ZScore','positions_x','positions_y'], axis=1)\n",
    "\n",
    "# Sort the dataframe by date just in case it's not sorted\n",
    "combined_df.sort_values('Date', inplace=True)\n",
    "\n",
    "# Shift the 'Lower_Asset' column up to get the next day's price in the current row\n",
    "combined_df['Next_Day_Lower_Asset'] = combined_df['Lower_Asset'].shift(-1)\n",
    "\n",
    "# Calculate the change in price\n",
    "combined_df['Price_Change_Lower_Asset'] = combined_df['Next_Day_Lower_Asset'] - combined_df['Lower_Asset']\n",
    "\n",
    "# Define a function to calculate P&L based on status\n",
    "def calculate_pnl(row):\n",
    "    if row['Lower_Asset.Status'] == 'LONG':\n",
    "        # If 'Long', P&L is the price change\n",
    "        return row['Price_Change_Lower_Asset']\n",
    "    elif row['Lower_Asset.Status'] == 'SHORT':\n",
    "        # If 'Short', P&L is also the price change but may be calculated differently\n",
    "        return -row['Price_Change_Lower_Asset']\n",
    "    else:\n",
    "        # If not 'Long' or 'Short', no position is taken, hence P&L is 0\n",
    "        return 0\n",
    "\n",
    "# Apply the function to calculate P&L\n",
    "combined_df['P&L'] = combined_df.apply(calculate_pnl, axis=1)\n",
    "\n",
    "# Now you can drop the 'Next_Day_Lower_Asset' and 'Price_Change_Lower_Asset' columns if they are not needed\n",
    "combined_df.drop(columns=['Next_Day_Lower_Asset', 'Price_Change_Lower_Asset'], inplace=True)\n",
    "\n",
    "# Return the updated DataFrame\n",
    "#combined_df\n"
   ]
  },
  {
   "cell_type": "code",
   "execution_count": 9,
   "id": "ef127d90",
   "metadata": {},
   "outputs": [
    {
     "data": {
      "image/png": "[encoded data removed]",
      "text/plain": [
       "<Figure size 1000x600 with 1 Axes>"
      ]
     },
     "metadata": {},
     "output_type": "display_data"
    },
    {
     "name": "stdout",
     "output_type": "stream",
     "text": [
      "Total P&L: 60.39\n",
      "Maximum Drawdown: -38.91%\n",
      "Sharpe Ratio: 1.27\n",
      "Z Score Trigger: 1.0\n",
      "Inverse Switch: 1\n",
      "Assets: ['SPY', 'QQQ']\n"
     ]
    }
   ],
   "source": [
    "#Prepares the Datecolumn from Index\n",
    "combined_df['Date']=combined_df.index\n",
    "\n",
    "# Calculate the cumulative P&L\n",
    "combined_df['Cumulative P&L'] = combined_df['P&L'].cumsum()\n",
    "\n",
    "# Plot the cumulative P&L\n",
    "plt.figure(figsize=(10, 6))\n",
    "plt.plot(combined_df['Date'], combined_df['Cumulative P&L'], marker='o')\n",
    "plt.title('Zelgo2A V4 Backtest P&L')\n",
    "plt.xlabel('Date')\n",
    "plt.ylabel('Cumulative P&L')\n",
    "plt.grid(True)\n",
    "plt.show()\n",
    "# Calculate the total P&L\n",
    "total_pnl = combined_df['P&L'].sum()\n",
    "total_pnl= round(total_pnl,2)\n",
    "\n",
    "\n",
    "# Calculate the Maximum Drawdown\n",
    "rolling_max = combined_df['Cumulative P&L'].cummax()  # The peak value until the current point\n",
    "daily_drawdown = combined_df['Cumulative P&L'] - rolling_max  # The drawdown at each point in time\n",
    "max_drawdown = daily_drawdown.min()  # The maximum drawdown\n",
    "max_drawdown_percent = (max_drawdown / rolling_max.max()) * 100\n",
    "max_drawdown_percent= round(max_drawdown_percent,2)\n",
    "\n",
    "\n",
    "# Calculate the Sharpe Ratio\n",
    "# Assuming risk-free rate is a constant, if you have a risk-free rate, subtract it from the returns\n",
    "sharpe_ratio = combined_df['P&L'].mean() / combined_df['P&L'].std() * np.sqrt(252)  # Annualized Sharpe Ratio\n",
    "sharpe_ratio= round(sharpe_ratio,2)\n",
    "\n",
    "\n",
    "\n",
    "#Clean up DF\n",
    "combined_df.drop(columns=['Date'], inplace=True)\n",
    "\n",
    "#Print\n",
    "print(f\"Total P&L: {total_pnl}\")\n",
    "print(f\"Maximum Drawdown: {max_drawdown_percent}%\")\n",
    "print(f\"Sharpe Ratio: {sharpe_ratio}\")\n",
    "print(f\"Z Score Trigger: {Z_ScoreTrigger}\")\n",
    "print(f\"Inverse Switch: {Inverse}\")\n",
    "print(f\"Assets: {tickers}\")"
   ]
  },
  {
   "cell_type": "code",
   "execution_count": null,
   "id": "a329094c",
   "metadata": {},
   "outputs": [],
   "source": []
  }
 ],
 "metadata": {
  "kernelspec": {
   "display_name": "Python 3 (ipykernel)",
   "language": "python",
   "name": "python3"
  },
  "language_info": {
   "codemirror_mode": {
    "name": "ipython",
    "version": 3
   },
   "file_extension": ".py",
   "mimetype": "text/x-python",
   "name": "python",
   "nbconvert_exporter": "python",
   "pygments_lexer": "ipython3",
   "version": "3.9.13"
  }
 },
 "nbformat": 4,
 "nbformat_minor": 5
}
